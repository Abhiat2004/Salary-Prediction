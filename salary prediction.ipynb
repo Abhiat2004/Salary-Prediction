{
 "cells": [
  {
   "cell_type": "markdown",
   "metadata": {},
   "source": [
    "Salary Prediction"
   ]
  },
  {
   "cell_type": "markdown",
   "metadata": {},
   "source": [
    "Importing libraries and Dataset"
   ]
  },
  {
   "cell_type": "code",
   "execution_count": 149,
   "metadata": {},
   "outputs": [],
   "source": [
    "import numpy as np\n",
    "import pandas as pd"
   ]
  },
  {
   "cell_type": "code",
   "execution_count": 150,
   "metadata": {},
   "outputs": [],
   "source": [
    "data=pd.read_csv('Salary Data .csv')\n",
    "x=data.iloc[:,0:-1].values\n",
    "y=data.iloc[:,-1].values"
   ]
  },
  {
   "cell_type": "code",
   "execution_count": 151,
   "metadata": {},
   "outputs": [
    {
     "name": "stdout",
     "output_type": "stream",
     "text": [
      "[[32 'Male' \"Bachelor's\" 'Software Engineer' 5.0]\n",
      " [28 'Female' \"Master's\" 'Data Analyst' 3.0]\n",
      " [45 'Male' 'PhD' 'Senior Manager' 15.0]\n",
      " ...\n",
      " [29 'Female' \"Bachelor's\" 'Junior Project Manager' 2.0]\n",
      " [34 'Male' \"Bachelor's\" 'Senior Operations Coordinator' 7.0]\n",
      " [44 'Female' 'PhD' 'Senior Business Analyst' 15.0]]\n"
     ]
    }
   ],
   "source": [
    "print(x)"
   ]
  },
  {
   "cell_type": "code",
   "execution_count": 152,
   "metadata": {},
   "outputs": [
    {
     "name": "stdout",
     "output_type": "stream",
     "text": [
      "[ 90000  65000 150000  60000 200000  55000 120000  80000  45000 110000\n",
      "  75000 140000  65000 130000  40000 125000  90000 115000  35000 180000\n",
      "  80000 190000  50000  60000 140000  45000 110000  40000 140000  90000\n",
      " 250000  55000  75000  65000 170000  45000  60000 115000  40000 160000\n",
      "  80000 190000  60000  45000 130000  40000  75000 180000 120000  35000\n",
      " 130000  85000  60000 200000  50000  95000  65000 140000  55000 105000\n",
      " 170000  50000  80000 180000  35000  90000 120000  45000  90000 150000\n",
      "  65000  70000 190000  40000 120000  95000 160000 100000 180000  55000\n",
      "  70000  80000  30000 250000  40000  95000  45000  80000 135000  55000\n",
      " 120000  40000 105000 170000  75000  65000 160000  35000  90000 110000\n",
      "  45000  95000 150000  50000  80000 220000  50000  60000 100000  40000\n",
      " 110000  95000 130000  90000  35000  95000  65000 170000  45000 120000\n",
      " 100000 180000  50000  80000 140000  40000  95000 110000  50000 105000\n",
      " 160000  45000 100000 160000  35000  55000 140000  50000  60000 120000\n",
      "  40000 110000  50000 135000  40000  90000 150000  60000  80000 175000\n",
      "  45000 120000 140000  35000  95000 110000  50000 115000 185000  40000\n",
      "  90000 175000  45000  80000 120000  35000 110000 150000  50000 105000\n",
      " 180000  40000 140000  45000  85000 140000  50000  80000 170000  40000\n",
      " 105000 145000  40000  85000 130000  95000 100000 180000  35000  95000\n",
      " 170000  45000  95000 120000  40000  90000 155000  55000 110000 180000\n",
      "  45000 130000  45000  90000 160000  50000 120000 170000  40000 110000\n",
      " 150000  40000  85000 130000 100000  95000 180000  35000 100000 170000\n",
      "  45000 100000 140000  40000 105000 160000  70000 120000 190000  45000\n",
      " 120000  50000  85000 140000  45000 100000 140000  70000 120000 160000\n",
      "  40000 120000 150000  70000  95000 180000  50000  95000 170000  40000\n",
      " 110000 150000  40000  85000 130000 100000  95000 180000    350 120000\n",
      " 160000  50000 110000  40000  95000 140000  60000 110000 150000  60000\n",
      "  90000 180000  40000 120000 160000  70000  95000 180000  50000  95000\n",
      " 170000  35000 100000 150000  60000  85000 130000  65000 110000 180000\n",
      "  40000  90000 140000  60000 130000 160000  40000 100000 180000  55000\n",
      " 120000 150000  70000  95000 180000  50000 120000 170000  35000 100000\n",
      " 150000  60000  85000 130000  80000  95000  40000 120000 160000  65000\n",
      " 130000 180000  40000 100000 150000  55000 110000 180000  50000 130000\n",
      " 160000  60000  95000 170000  40000  90000 150000  70000  90000 170000\n",
      "  50000 150000 160000  60000  85000 180000  35000 110000 160000  55000\n",
      " 110000 180000  50000 130000 160000  60000  95000 170000  40000  90000\n",
      " 150000  70000  90000 170000  50000 150000 160000  60000  85000 170000\n",
      "  40000  90000 150000]\n"
     ]
    }
   ],
   "source": [
    "print(y)"
   ]
  },
  {
   "cell_type": "code",
   "execution_count": 153,
   "metadata": {},
   "outputs": [
    {
     "data": {
      "text/plain": [
       "Age                    0\n",
       "Gender                 0\n",
       "Education Level        0\n",
       "Job Title              0\n",
       "Years of Experience    0\n",
       "Salary                 0\n",
       "dtype: int64"
      ]
     },
     "execution_count": 153,
     "metadata": {},
     "output_type": "execute_result"
    }
   ],
   "source": [
    "data.isnull().sum()"
   ]
  },
  {
   "cell_type": "markdown",
   "metadata": {},
   "source": [
    "Encoding the Catogorical Data"
   ]
  },
  {
   "cell_type": "code",
   "execution_count": 154,
   "metadata": {},
   "outputs": [],
   "source": [
    "from sklearn.preprocessing import LabelEncoder\n",
    "le=LabelEncoder()\n",
    "x[:,1]=le.fit_transform(x[:,1])\n",
    "x[:,2]=le.fit_transform(x[:,2])\n",
    "x[:,3]=le.fit_transform(x[:,3])"
   ]
  },
  {
   "cell_type": "markdown",
   "metadata": {},
   "source": [
    "Spliting Train and Test Data"
   ]
  },
  {
   "cell_type": "code",
   "execution_count": 155,
   "metadata": {},
   "outputs": [],
   "source": [
    "from sklearn.model_selection import train_test_split\n",
    "x_train,x_test,y_train,y_test=train_test_split(x,y,test_size=0.2,random_state=0)"
   ]
  },
  {
   "cell_type": "markdown",
   "metadata": {},
   "source": [
    "Feature Scaling"
   ]
  },
  {
   "cell_type": "code",
   "execution_count": 156,
   "metadata": {},
   "outputs": [
    {
     "data": {
      "text/plain": [
       "array([[-1.37448116, -1.0767638 , -0.74242355, -1.7684474 , -1.2564865 ],\n",
       "       [-1.08994112,  0.92870878, -0.74242355, -0.92240551, -1.2564865 ],\n",
       "       [-1.23221114, -1.0767638 , -0.74242355, -1.16103271, -1.10430891],\n",
       "       [ 1.04410917,  0.92870878,  0.60661436,  1.31201282,  0.87399986],\n",
       "       [-0.37859103, -1.0767638 , -0.74242355,  0.8564518 , -0.34342092],\n",
       "       [ 0.90183915, -1.0767638 ,  1.95565227,  1.26862606,  0.87399986],\n",
       "       [-0.80540108, -1.0767638 , -0.74242355, -0.59700478, -0.95213131],\n",
       "       [ 0.61729911,  0.92870878,  0.60661436,  0.07549006,  0.56964466],\n",
       "       [-1.37448116,  0.92870878, -0.74242355, -0.92240551, -1.2564865 ],\n",
       "       [ 1.89772929, -1.0767638 ,  0.60661436, -1.37796653,  1.63488785],\n",
       "       [-0.66313106, -1.0767638 , -0.74242355, -0.55361802, -0.79995371],\n",
       "       [ 0.33275907,  0.92870878, -0.74242355,  0.57443784,  0.26528947],\n",
       "       [ 0.90183915, -1.0767638 ,  1.95565227,  1.02999886,  0.72182226],\n",
       "       [-0.37859103,  0.92870878,  0.60661436,  0.03210329, -0.49559852],\n",
       "       [-0.23632101,  0.92870878,  1.95565227, -0.01128347,  0.11311187],\n",
       "       [-0.66313106,  0.92870878, -0.74242355, -0.92240551, -0.95213131],\n",
       "       [-1.08994112,  0.92870878, -0.74242355, -0.5753114 , -1.10430891],\n",
       "       [-1.37448116,  0.92870878, -0.74242355, -0.90071213, -1.2564865 ],\n",
       "       [ 0.61729911, -1.0767638 ,  1.95565227,  0.50935769,  0.87399986],\n",
       "       [ 1.75545927, -1.0767638 ,  0.60661436, -1.44304667,  1.48271025],\n",
       "       [-0.52086104,  0.92870878, -0.74242355,  0.40089078, -0.34342092],\n",
       "       [-0.23632101,  0.92870878, -0.74242355,  0.94322533, -0.34342092],\n",
       "       [ 0.19048905,  0.92870878, -0.74242355,  0.94322533, -0.03906573],\n",
       "       [-1.23221114, -1.0767638 , -0.74242355, -0.46684449, -1.2564865 ],\n",
       "       [ 1.89772929, -1.0767638 ,  0.60661436, -1.33457976,  1.93924304],\n",
       "       [-1.08994112, -1.0767638 , -0.74242355, -0.68377831, -1.2564865 ],\n",
       "       [-0.9476711 , -1.0767638 , -0.74242355, -1.24780624, -0.79995371],\n",
       "       [-0.66313106,  0.92870878, -0.74242355, -0.3366842 , -0.79995371],\n",
       "       [ 0.61729911, -1.0767638 ,  0.60661436,  0.03210329,  0.26528947],\n",
       "       [-1.37448116, -1.0767638 ,  0.60661436, -1.61659373, -1.10430891],\n",
       "       [-0.52086104, -1.0767638 , -0.74242355, -0.70547169, -0.79995371],\n",
       "       [ 0.33275907, -1.0767638 , -0.74242355,  1.24693268,  0.26528947],\n",
       "       [ 0.33275907, -1.0767638 ,  0.60661436,  1.35539959,  0.26528947],\n",
       "       [ 0.75956913,  0.92870878, -0.74242355,  1.13846577,  0.72182226],\n",
       "       [-1.08994112,  0.92870878, -0.74242355, -0.94409889, -1.10430891],\n",
       "       [ 0.33275907, -1.0767638 , -0.74242355,  0.92153195,  0.26528947],\n",
       "       [-1.23221114,  0.92870878,  0.60661436,  1.44217311, -1.10430891],\n",
       "       [-0.09405099, -1.0767638 ,  0.60661436,  1.48555988,  0.11311187],\n",
       "       [ 0.04821903, -1.0767638 ,  0.60661436, -1.5298202 , -0.03906573],\n",
       "       [ 0.33275907, -1.0767638 , -0.74242355, -1.24780624,  0.26528947],\n",
       "       [ 0.61729911, -1.0767638 ,  0.60661436, -1.74675402,  0.56964466],\n",
       "       [ 1.61318925, -1.0767638 ,  0.60661436,  0.66121137,  1.33053265],\n",
       "       [ 0.90183915,  0.92870878, -0.74242355, -0.05467023,  0.87399986],\n",
       "       [ 1.47091923, -1.0767638 ,  0.60661436, -1.42135329,  1.48271025],\n",
       "       [ 1.32864921,  0.92870878,  0.60661436, -1.48643344,  1.33053265],\n",
       "       [-1.23221114,  0.92870878, -0.74242355, -0.22821729, -1.2564865 ],\n",
       "       [-0.9476711 , -1.0767638 , -0.74242355, -0.20652391, -0.64777612],\n",
       "       [ 0.75956913,  0.92870878, -0.74242355,  1.57233341,  1.17835505],\n",
       "       [-0.9476711 ,  0.92870878, -0.74242355,  0.27073049, -0.95213131],\n",
       "       [-0.52086104,  0.92870878,  0.60661436, -1.89860769, -0.34342092],\n",
       "       [ 0.04821903, -1.0767638 , -0.74242355,  0.9866121 , -0.19124332],\n",
       "       [-0.37859103,  0.92870878, -0.74242355,  1.11677239, -0.19124332],\n",
       "       [-0.66313106,  0.92870878, -0.74242355,  1.05169224, -0.49559852],\n",
       "       [-0.23632101, -1.0767638 , -0.74242355,  0.92153195, -0.34342092],\n",
       "       [-0.52086104, -1.0767638 ,  0.60661436, -1.92030107, -0.79995371],\n",
       "       [ 1.32864921, -1.0767638 ,  0.60661436, -1.35627315,  1.48271025],\n",
       "       [-0.09405099,  0.92870878, -0.74242355,  0.57443784, -0.34342092],\n",
       "       [-1.37448116,  0.92870878, -0.74242355, -0.70547169, -1.2564865 ],\n",
       "       [-1.08994112, -1.0767638 , -0.74242355, -0.61869816, -1.2564865 ],\n",
       "       [-1.08994112, -1.0767638 , -0.74242355, -1.55151358, -1.10430891],\n",
       "       [-1.23221114, -1.0767638 , -0.74242355, -0.44515111, -1.10430891],\n",
       "       [ 1.75545927, -1.0767638 , -0.74242355, -0.05467023,  1.78706544],\n",
       "       [ 1.04410917,  0.92870878,  1.95565227,  0.48766431,  0.87399986],\n",
       "       [-1.23221114,  0.92870878, -0.74242355, -0.61869816, -1.2564865 ],\n",
       "       [-1.6590212 ,  0.92870878, -0.74242355, -0.96579227, -1.4086641 ],\n",
       "       [-0.23632101,  0.92870878, -0.74242355,  0.27073049, -0.19124332],\n",
       "       [-0.23632101,  0.92870878, -0.74242355,  0.94322533, -0.34342092],\n",
       "       [ 1.32864921,  0.92870878,  0.60661436, -1.35627315,  1.33053265],\n",
       "       [-1.51675118, -1.0767638 ,  0.60661436, -0.42345773, -1.3325753 ],\n",
       "       [ 0.90183915, -1.0767638 ,  1.95565227,  0.40089078,  0.72182226],\n",
       "       [-1.51675118, -1.0767638 ,  0.60661436,  1.7024937 , -1.2564865 ],\n",
       "       [-1.6590212 , -1.0767638 , -0.74242355, -0.20652391, -1.4086641 ],\n",
       "       [-0.37859103,  0.92870878,  0.60661436,  1.31201282, -0.19124332],\n",
       "       [-1.23221114, -1.0767638 , -0.74242355, -0.90071213, -1.3325753 ],\n",
       "       [ 1.47091923, -1.0767638 ,  0.60661436, -1.07425918,  1.48271025]])"
      ]
     },
     "execution_count": 156,
     "metadata": {},
     "output_type": "execute_result"
    }
   ],
   "source": [
    "from sklearn.preprocessing import StandardScaler\n",
    "s=StandardScaler()\n",
    "s.fit_transform(x_train)\n",
    "s.transform(x_test)"
   ]
  },
  {
   "cell_type": "markdown",
   "metadata": {},
   "source": [
    "Training the Polynomial Regressor Model"
   ]
  },
  {
   "cell_type": "code",
   "execution_count": 157,
   "metadata": {},
   "outputs": [
    {
     "data": {
      "text/html": [
       "<style>#sk-container-id-17 {color: black;}#sk-container-id-17 pre{padding: 0;}#sk-container-id-17 div.sk-toggleable {background-color: white;}#sk-container-id-17 label.sk-toggleable__label {cursor: pointer;display: block;width: 100%;margin-bottom: 0;padding: 0.3em;box-sizing: border-box;text-align: center;}#sk-container-id-17 label.sk-toggleable__label-arrow:before {content: \"▸\";float: left;margin-right: 0.25em;color: #696969;}#sk-container-id-17 label.sk-toggleable__label-arrow:hover:before {color: black;}#sk-container-id-17 div.sk-estimator:hover label.sk-toggleable__label-arrow:before {color: black;}#sk-container-id-17 div.sk-toggleable__content {max-height: 0;max-width: 0;overflow: hidden;text-align: left;background-color: #f0f8ff;}#sk-container-id-17 div.sk-toggleable__content pre {margin: 0.2em;color: black;border-radius: 0.25em;background-color: #f0f8ff;}#sk-container-id-17 input.sk-toggleable__control:checked~div.sk-toggleable__content {max-height: 200px;max-width: 100%;overflow: auto;}#sk-container-id-17 input.sk-toggleable__control:checked~label.sk-toggleable__label-arrow:before {content: \"▾\";}#sk-container-id-17 div.sk-estimator input.sk-toggleable__control:checked~label.sk-toggleable__label {background-color: #d4ebff;}#sk-container-id-17 div.sk-label input.sk-toggleable__control:checked~label.sk-toggleable__label {background-color: #d4ebff;}#sk-container-id-17 input.sk-hidden--visually {border: 0;clip: rect(1px 1px 1px 1px);clip: rect(1px, 1px, 1px, 1px);height: 1px;margin: -1px;overflow: hidden;padding: 0;position: absolute;width: 1px;}#sk-container-id-17 div.sk-estimator {font-family: monospace;background-color: #f0f8ff;border: 1px dotted black;border-radius: 0.25em;box-sizing: border-box;margin-bottom: 0.5em;}#sk-container-id-17 div.sk-estimator:hover {background-color: #d4ebff;}#sk-container-id-17 div.sk-parallel-item::after {content: \"\";width: 100%;border-bottom: 1px solid gray;flex-grow: 1;}#sk-container-id-17 div.sk-label:hover label.sk-toggleable__label {background-color: #d4ebff;}#sk-container-id-17 div.sk-serial::before {content: \"\";position: absolute;border-left: 1px solid gray;box-sizing: border-box;top: 0;bottom: 0;left: 50%;z-index: 0;}#sk-container-id-17 div.sk-serial {display: flex;flex-direction: column;align-items: center;background-color: white;padding-right: 0.2em;padding-left: 0.2em;position: relative;}#sk-container-id-17 div.sk-item {position: relative;z-index: 1;}#sk-container-id-17 div.sk-parallel {display: flex;align-items: stretch;justify-content: center;background-color: white;position: relative;}#sk-container-id-17 div.sk-item::before, #sk-container-id-17 div.sk-parallel-item::before {content: \"\";position: absolute;border-left: 1px solid gray;box-sizing: border-box;top: 0;bottom: 0;left: 50%;z-index: -1;}#sk-container-id-17 div.sk-parallel-item {display: flex;flex-direction: column;z-index: 1;position: relative;background-color: white;}#sk-container-id-17 div.sk-parallel-item:first-child::after {align-self: flex-end;width: 50%;}#sk-container-id-17 div.sk-parallel-item:last-child::after {align-self: flex-start;width: 50%;}#sk-container-id-17 div.sk-parallel-item:only-child::after {width: 0;}#sk-container-id-17 div.sk-dashed-wrapped {border: 1px dashed gray;margin: 0 0.4em 0.5em 0.4em;box-sizing: border-box;padding-bottom: 0.4em;background-color: white;}#sk-container-id-17 div.sk-label label {font-family: monospace;font-weight: bold;display: inline-block;line-height: 1.2em;}#sk-container-id-17 div.sk-label-container {text-align: center;}#sk-container-id-17 div.sk-container {/* jupyter's `normalize.less` sets `[hidden] { display: none; }` but bootstrap.min.css set `[hidden] { display: none !important; }` so we also need the `!important` here to be able to override the default hidden behavior on the sphinx rendered scikit-learn.org. See: https://github.com/scikit-learn/scikit-learn/issues/21755 */display: inline-block !important;position: relative;}#sk-container-id-17 div.sk-text-repr-fallback {display: none;}</style><div id=\"sk-container-id-17\" class=\"sk-top-container\"><div class=\"sk-text-repr-fallback\"><pre>LinearRegression()</pre><b>In a Jupyter environment, please rerun this cell to show the HTML representation or trust the notebook. <br />On GitHub, the HTML representation is unable to render, please try loading this page with nbviewer.org.</b></div><div class=\"sk-container\" hidden><div class=\"sk-item\"><div class=\"sk-estimator sk-toggleable\"><input class=\"sk-toggleable__control sk-hidden--visually\" id=\"sk-estimator-id-17\" type=\"checkbox\" checked><label for=\"sk-estimator-id-17\" class=\"sk-toggleable__label sk-toggleable__label-arrow\">LinearRegression</label><div class=\"sk-toggleable__content\"><pre>LinearRegression()</pre></div></div></div></div></div>"
      ],
      "text/plain": [
       "LinearRegression()"
      ]
     },
     "execution_count": 157,
     "metadata": {},
     "output_type": "execute_result"
    }
   ],
   "source": [
    "from sklearn.preprocessing import PolynomialFeatures\n",
    "from sklearn.linear_model import LinearRegression\n",
    "p=PolynomialFeatures(degree=4)\n",
    "x_poly=p.fit_transform(x_train)\n",
    "l2=LinearRegression()\n",
    "l2.fit(x_poly,y_train)\n"
   ]
  },
  {
   "cell_type": "markdown",
   "metadata": {},
   "source": [
    "Model Evaluation"
   ]
  },
  {
   "cell_type": "code",
   "execution_count": 158,
   "metadata": {},
   "outputs": [
    {
     "data": {
      "text/plain": [
       "0.8167661542273986"
      ]
     },
     "execution_count": 158,
     "metadata": {},
     "output_type": "execute_result"
    }
   ],
   "source": [
    "y_pred=l2.predict(p.transform(x_test))\n",
    "from sklearn.metrics import r2_score\n",
    "r2_score(y_test,y_pred)"
   ]
  }
 ],
 "metadata": {
  "kernelspec": {
   "display_name": "Python 3",
   "language": "python",
   "name": "python3"
  },
  "language_info": {
   "codemirror_mode": {
    "name": "ipython",
    "version": 3
   },
   "file_extension": ".py",
   "mimetype": "text/x-python",
   "name": "python",
   "nbconvert_exporter": "python",
   "pygments_lexer": "ipython3",
   "version": "3.11.3"
  },
  "orig_nbformat": 4
 },
 "nbformat": 4,
 "nbformat_minor": 2
}
